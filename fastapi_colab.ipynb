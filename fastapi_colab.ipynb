{
  "nbformat": 4,
  "nbformat_minor": 0,
  "metadata": {
    "colab": {
      "name": "fastapi-colab.ipynb",
      "provenance": [],
      "collapsed_sections": [],
      "include_colab_link": true
    },
    "kernelspec": {
      "display_name": "Python 3",
      "name": "python3"
    }
  },
  "cells": [
    {
      "cell_type": "markdown",
      "metadata": {
        "id": "view-in-github",
        "colab_type": "text"
      },
      "source": [
        "<a href=\"https://colab.research.google.com/github/Brun0oO/Colab/blob/main/fastapi_colab.ipynb\" target=\"_parent\"><img src=\"https://colab.research.google.com/assets/colab-badge.svg\" alt=\"Open In Colab\"/></a>"
      ]
    },
    {
      "cell_type": "markdown",
      "metadata": {
        "id": "_dPNjwSC_vaI"
      },
      "source": [
        "# **Install Required python library**"
      ]
    },
    {
      "cell_type": "code",
      "metadata": {
        "colab": {
          "base_uri": "https://localhost:8080/"
        },
        "id": "1RLgb7uF_Cod",
        "outputId": "08f5b6fa-356c-489a-cb9c-f06a6809079b"
      },
      "source": [
        "!pip install fastapi nest-asyncio pyngrok uvicorn python-multipart qrcode"
      ],
      "execution_count": null,
      "outputs": [
        {
          "output_type": "stream",
          "text": [
            "Requirement already satisfied: fastapi in /usr/local/lib/python3.7/dist-packages (0.65.2)\n",
            "Requirement already satisfied: nest-asyncio in /usr/local/lib/python3.7/dist-packages (1.5.1)\n",
            "Requirement already satisfied: pyngrok in /usr/local/lib/python3.7/dist-packages (5.0.5)\n",
            "Requirement already satisfied: uvicorn in /usr/local/lib/python3.7/dist-packages (0.14.0)\n",
            "Requirement already satisfied: python-multipart in /usr/local/lib/python3.7/dist-packages (0.0.5)\n",
            "Requirement already satisfied: qrcode in /usr/local/lib/python3.7/dist-packages (6.1)\n",
            "Requirement already satisfied: starlette==0.14.2 in /usr/local/lib/python3.7/dist-packages (from fastapi) (0.14.2)\n",
            "Requirement already satisfied: pydantic!=1.7,!=1.7.1,!=1.7.2,!=1.7.3,!=1.8,!=1.8.1,<2.0.0,>=1.6.2 in /usr/local/lib/python3.7/dist-packages (from fastapi) (1.8.2)\n",
            "Requirement already satisfied: PyYAML in /usr/local/lib/python3.7/dist-packages (from pyngrok) (3.13)\n",
            "Requirement already satisfied: h11>=0.8 in /usr/local/lib/python3.7/dist-packages (from uvicorn) (0.12.0)\n",
            "Requirement already satisfied: click>=7.* in /usr/local/lib/python3.7/dist-packages (from uvicorn) (7.1.2)\n",
            "Requirement already satisfied: typing-extensions; python_version < \"3.8\" in /usr/local/lib/python3.7/dist-packages (from uvicorn) (3.7.4.3)\n",
            "Requirement already satisfied: asgiref>=3.3.4 in /usr/local/lib/python3.7/dist-packages (from uvicorn) (3.3.4)\n",
            "Requirement already satisfied: six>=1.4.0 in /usr/local/lib/python3.7/dist-packages (from python-multipart) (1.15.0)\n"
          ],
          "name": "stdout"
        }
      ]
    },
    {
      "cell_type": "markdown",
      "metadata": {
        "id": "nunDh7iWRZG5"
      },
      "source": [
        "# **Simple FastAPI Server**"
      ]
    },
    {
      "cell_type": "markdown",
      "metadata": {
        "id": "0nigGiexbU8z"
      },
      "source": [
        "The following code launches a fastapi server delevering RESTful APIs available through a ngrok tunnel. "
      ]
    },
    {
      "cell_type": "code",
      "metadata": {
        "colab": {
          "base_uri": "https://localhost:8080/",
          "height": 541
        },
        "id": "04B4VeH7RsiP",
        "outputId": "8ef6ec1d-e4f6-4e2b-d76f-991a15727052"
      },
      "source": [
        "\n",
        "from fastapi import FastAPI, UploadFile, File, Form, HTTPException\n",
        "from fastapi.responses import HTMLResponse, RedirectResponse\n",
        "\n",
        "\n",
        "import nest_asyncio\n",
        "from pyngrok import ngrok\n",
        "import uvicorn\n",
        "import io\n",
        "\n",
        "import pathlib\n",
        "from PIL import Image\n",
        "\n",
        "import qrcode\n",
        "import matplotlib.pyplot as plt\n",
        "from time import sleep\n",
        "\n",
        "def createQRCode(text):\n",
        "  qr = qrcode.QRCode(\n",
        "      version=1,\n",
        "      error_correction=qrcode.constants.ERROR_CORRECT_L,\n",
        "      box_size=10,\n",
        "      border=4,\n",
        "  )\n",
        "  qr.add_data(text)\n",
        "  qr.make(fit=True)\n",
        "\n",
        "  return qr.make_image(fill_color=\"black\", back_color=\"white\")  \n",
        "\n",
        "\n",
        "def processImage(img):\n",
        "  result = [img.width, img.height]\n",
        "  return result\n",
        "\n",
        "app = FastAPI()\n",
        "\n",
        "@app.get('/', response_class=HTMLResponse)\n",
        "async def home():\n",
        "  result = \"\"\"\n",
        "<h1>FastAPI with Colab is great!</h1>\n",
        "<br>\n",
        "<p>Some useful links:</p>\n",
        "<ul>\n",
        "  <li><a href=\"%s/docs\">automatic interactive API documentation</a></li>\n",
        "</ul>\n",
        "  \"\"\" % (ngrok_tunnel.public_url)\n",
        "  return result\n",
        "\n",
        "@app.post(\"/analyze/\")\n",
        "async def analyze(image: UploadFile = File(...)):\n",
        "  extension = pathlib.Path(image.filename).suffix.lower()\n",
        "  if not(extension in ['.png', '.jpg', '.jpeg']):\n",
        "    raise HTTPException(status_code=400, detail=\"bad parameter, waiting for a .png or .jpg filename !\")\n",
        "\n",
        "  contents = await image.read()\n",
        "  img = Image.open(io.BytesIO(contents))\n",
        "  result = processImage(img)\n",
        "  return {'msg': 'success', 'result': result}\n",
        "\n",
        "@app.get(\"/docs\")\n",
        "async def docs_redirect():\n",
        "  response = RedirectResponse(url='/docs')\n",
        "  return response\n",
        "\n",
        "\n",
        "\n",
        "ngrok_tunnel = ngrok.connect(8000)\n",
        "print('Public URL:', ngrok_tunnel.public_url)\n",
        "qrcode = createQRCode(ngrok_tunnel.public_url)\n",
        "plt.imshow(qrcode)\n",
        "plt.show()\n",
        "sleep(0.5)\n",
        "nest_asyncio.apply()\n",
        "uvicorn.run(app, port=8000)"
      ],
      "execution_count": null,
      "outputs": [
        {
          "output_type": "stream",
          "text": [
            "Public URL: http://ae077870e0ef.ngrok.io\n"
          ],
          "name": "stdout"
        },
        {
          "output_type": "display_data",
          "data": {
            "image/png": "[encoded data removed]",
            "text/plain": [
              "<Figure size 432x288 with 1 Axes>"
            ]
          },
          "metadata": {
            "tags": [],
            "needs_background": "light"
          }
        },
        {
          "output_type": "stream",
          "text": [
            "INFO:     Started server process [541]\n",
            "INFO:     Waiting for application startup.\n",
            "INFO:     Application startup complete.\n",
            "INFO:     Uvicorn running on http://127.0.0.1:8000 (Press CTRL+C to quit)\n"
          ],
          "name": "stderr"
        },
        {
          "output_type": "stream",
          "text": [
            "INFO:     2a01:e0a:1bd:97f0:a8d2:10c1:9e5:754a:0 - \"GET / HTTP/1.1\" 200 OK\n",
            "INFO:     2a01:e0a:1bd:97f0:a8d2:10c1:9e5:754a:0 - \"GET /favicon.ico HTTP/1.1\" 404 Not Found\n",
            "INFO:     67.219.192.37:0 - \"GET / HTTP/1.1\" 200 OK\n",
            "INFO:     2a01:e0a:1bd:97f0:a8d2:10c1:9e5:754a:0 - \"GET /docs HTTP/1.1\" 200 OK\n",
            "INFO:     2a01:e0a:1bd:97f0:a8d2:10c1:9e5:754a:0 - \"GET /openapi.json HTTP/1.1\" 200 OK\n",
            "INFO:     193.51.224.134:0 - \"GET /docs HTTP/1.1\" 200 OK\n",
            "INFO:     2a01:e0a:1bd:97f0:a8d2:10c1:9e5:754a:0 - \"POST /analyze/ HTTP/1.1\" 200 OK\n"
          ],
          "name": "stdout"
        },
        {
          "output_type": "stream",
          "text": [
            "INFO:     Shutting down\n",
            "INFO:     Waiting for application shutdown.\n",
            "INFO:     Application shutdown complete.\n",
            "INFO:     Finished server process [541]\n"
          ],
          "name": "stderr"
        }
      ]
    }
  ]
}