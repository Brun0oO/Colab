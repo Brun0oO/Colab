{
  "nbformat": 4,
  "nbformat_minor": 0,
  "metadata": {
    "colab": {
      "name": "Expose a local server with JPRQ (a free and open-source Ngrok alternative).ipynb",
      "provenance": [],
      "collapsed_sections": [],
      "authorship_tag": "ABX9TyNFcXKVnouZA5KAF1KbMdSt",
      "include_colab_link": true
    },
    "kernelspec": {
      "name": "python3",
      "display_name": "Python 3"
    },
    "language_info": {
      "name": "python"
    }
  },
  "cells": [
    {
      "cell_type": "markdown",
      "metadata": {
        "id": "view-in-github",
        "colab_type": "text"
      },
      "source": [
        "<a href=\"https://colab.research.google.com/github/Brun0oO/Colab/blob/main/Expose_a_local_server_with_JPRQ_(a_free_and_open_source_Ngrok_alternative).ipynb\" target=\"_parent\"><img src=\"https://colab.research.google.com/assets/colab-badge.svg\" alt=\"Open In Colab\"/></a>"
      ]
    },
    {
      "cell_type": "markdown",
      "metadata": {
        "id": "3O9aE0vRc2Ja"
      },
      "source": [
        "# How to expose a local server with JPRQ (a free and open-source Ngrok alternative)"
      ]
    },
    {
      "cell_type": "markdown",
      "metadata": {
        "id": "oqDmt7aDdIf2"
      },
      "source": [
        "First some prerequisites..."
      ]
    },
    {
      "cell_type": "code",
      "metadata": {
        "colab": {
          "base_uri": "https://localhost:8080/"
        },
        "id": "jz8l5rMufEpm",
        "outputId": "4baca01a-ce40-4d9a-e73a-7aeac03c3be5"
      },
      "source": [
        "!pip install jprq qrcode fastapi nest-asyncio uvicorn"
      ],
      "execution_count": null,
      "outputs": [
        {
          "output_type": "stream",
          "text": [
            "Requirement already satisfied: jprq in /usr/local/lib/python3.7/dist-packages (1.3.0)\n",
            "Requirement already satisfied: qrcode in /usr/local/lib/python3.7/dist-packages (7.2)\n",
            "Requirement already satisfied: fastapi in /usr/local/lib/python3.7/dist-packages (0.67.0)\n",
            "Requirement already satisfied: nest-asyncio in /usr/local/lib/python3.7/dist-packages (1.5.1)\n",
            "Requirement already satisfied: uvicorn in /usr/local/lib/python3.7/dist-packages (0.14.0)\n",
            "Requirement already satisfied: websockets==8.1 in /usr/local/lib/python3.7/dist-packages (from jprq) (8.1)\n",
            "Requirement already satisfied: certifi==2019.9.11 in /usr/local/lib/python3.7/dist-packages (from jprq) (2019.9.11)\n",
            "Requirement already satisfied: aiohttp==3.6.2 in /usr/local/lib/python3.7/dist-packages (from jprq) (3.6.2)\n",
            "Requirement already satisfied: chardet<4.0,>=2.0 in /usr/local/lib/python3.7/dist-packages (from aiohttp==3.6.2->jprq) (3.0.4)\n",
            "Requirement already satisfied: attrs>=17.3.0 in /usr/local/lib/python3.7/dist-packages (from aiohttp==3.6.2->jprq) (21.2.0)\n",
            "Requirement already satisfied: multidict<5.0,>=4.5 in /usr/local/lib/python3.7/dist-packages (from aiohttp==3.6.2->jprq) (4.7.6)\n",
            "Requirement already satisfied: async-timeout<4.0,>=3.0 in /usr/local/lib/python3.7/dist-packages (from aiohttp==3.6.2->jprq) (3.0.1)\n",
            "Requirement already satisfied: yarl<2.0,>=1.0 in /usr/local/lib/python3.7/dist-packages (from aiohttp==3.6.2->jprq) (1.6.3)\n",
            "Requirement already satisfied: typing-extensions>=3.7.4 in /usr/local/lib/python3.7/dist-packages (from yarl<2.0,>=1.0->aiohttp==3.6.2->jprq) (3.7.4.3)\n",
            "Requirement already satisfied: idna>=2.0 in /usr/local/lib/python3.7/dist-packages (from yarl<2.0,>=1.0->aiohttp==3.6.2->jprq) (2.10)\n",
            "Requirement already satisfied: pydantic!=1.7,!=1.7.1,!=1.7.2,!=1.7.3,!=1.8,!=1.8.1,<2.0.0,>=1.6.2 in /usr/local/lib/python3.7/dist-packages (from fastapi) (1.8.2)\n",
            "Requirement already satisfied: starlette==0.14.2 in /usr/local/lib/python3.7/dist-packages (from fastapi) (0.14.2)\n",
            "Requirement already satisfied: click>=7.* in /usr/local/lib/python3.7/dist-packages (from uvicorn) (7.1.2)\n",
            "Requirement already satisfied: asgiref>=3.3.4 in /usr/local/lib/python3.7/dist-packages (from uvicorn) (3.4.1)\n",
            "Requirement already satisfied: h11>=0.8 in /usr/local/lib/python3.7/dist-packages (from uvicorn) (0.12.0)\n"
          ],
          "name": "stdout"
        }
      ]
    },
    {
      "cell_type": "markdown",
      "metadata": {
        "id": "nekhCzwPP-gE"
      },
      "source": [
        "Create the tunnel using JPRQ...   \n",
        "We define our public url using an Universal Unique IDentifier."
      ]
    },
    {
      "cell_type": "code",
      "metadata": {
        "colab": {
          "base_uri": "https://localhost:8080/"
        },
        "id": "TFpLJUjNgTzA",
        "outputId": "72184147-d347-4841-b305-88a599c72a3a"
      },
      "source": [
        "import subprocess\n",
        "import uuid\n",
        "\n",
        "# configure the tunnel\n",
        "subdomain = uuid.uuid4().hex\n",
        "port = 8000\n",
        "cmd = \"python3 -m jprq %s -s=%s\" % (port, subdomain)\n",
        "public_url = \"https://%s.jprq.live/\" % subdomain\n",
        "\n",
        "# start the tunnel in a background process\n",
        "tunnel_subprocess = subprocess.Popen(cmd, shell=True)\n",
        "print(\"tunnel subprocess pid : \", tunnel_subprocess.pid)"
      ],
      "execution_count": null,
      "outputs": [
        {
          "output_type": "stream",
          "text": [
            "tunnel subprocess pid :  859\n"
          ],
          "name": "stdout"
        }
      ]
    },
    {
      "cell_type": "markdown",
      "metadata": {
        "id": "Jqnqp5tPQDMn"
      },
      "source": [
        "Some verifications... As you can see, there is 2 subprocesses launched from one call to Popen (surely a peculiarity of launching from the notebook here, this does not happen in a standard environment i.e. outside the notebook)"
      ]
    },
    {
      "cell_type": "code",
      "metadata": {
        "colab": {
          "base_uri": "https://localhost:8080/"
        },
        "id": "pf8oiPJHq81E",
        "outputId": "377e9d7b-1abb-4c92-f347-ed52697b1a69"
      },
      "source": [
        "!ps aux | grep [j]prq"
      ],
      "execution_count": null,
      "outputs": [
        {
          "output_type": "stream",
          "text": [
            "root         859  0.0  0.0  34304  4856 ?        S    08:15   0:00 /bin/sh -c python3 -m jprq 8000 -s=935fa268765a48e3946eccda4047c09f\n",
            "root         860  5.0  0.2 127324 33136 ?        Sl   08:15   0:00 python3 -m jprq 8000 -s=935fa268765a48e3946eccda4047c09f\n"
          ],
          "name": "stdout"
        }
      ]
    },
    {
      "cell_type": "markdown",
      "metadata": {
        "id": "he6mLxvYYuRQ"
      },
      "source": [
        "Now, we can start and expose a local server to the public url using the jprq tunnel...  \n",
        "You can access it using the link on your desktop or on your smartphone using the qrcode ;o)"
      ]
    },
    {
      "cell_type": "code",
      "metadata": {
        "colab": {
          "base_uri": "https://localhost:8080/",
          "height": 439
        },
        "id": "0J9QXXb9YcnE",
        "outputId": "1c9e21a6-2a65-4e81-953d-2c3fc6542ef1"
      },
      "source": [
        "from fastapi import FastAPI\n",
        "import nest_asyncio\n",
        "import uvicorn\n",
        "\n",
        "import qrcode\n",
        "from qrcode.image.styledpil import StyledPilImage\n",
        "from qrcode.image.styles.moduledrawers import HorizontalBarsDrawer\n",
        "from qrcode.image.styles.colormasks import RadialGradiantColorMask\n",
        "\n",
        "import matplotlib.pyplot as plt\n",
        "from time import sleep\n",
        "\n",
        "\n",
        "# create a (very !) simple web app using FastAPI\n",
        "app = FastAPI()\n",
        "@app.get(\"/\")\n",
        "async def root():\n",
        "    return {\"message\": \"Hello World\"}\n",
        "\n",
        "# serve the web app\n",
        "#   display the url\n",
        "print(\"Online at %s\" % public_url)\n",
        "qrcode = createQRCode(public_url)\n",
        "plt.imshow(qrcode)\n",
        "plt.show()\n",
        "sleep(0.5)\n",
        "#   launch the http server\n",
        "nest_asyncio.apply() #need this patch otherwise got \"RuntimeError: This event loop is already running\"\n",
        "uvicorn.run(app, port=port)\n"
      ],
      "execution_count": null,
      "outputs": [
        {
          "output_type": "stream",
          "text": [
            "Online at https://935fa268765a48e3946eccda4047c09f.jprq.live/\n"
          ],
          "name": "stdout"
        },
        {
          "output_type": "display_data",
          "data": {
            "image/png": "[encoded data removed]",
            "text/plain": [
              "<Figure size 432x288 with 1 Axes>"
            ]
          },
          "metadata": {
            "tags": [],
            "needs_background": "light"
          }
        },
        {
          "output_type": "stream",
          "text": [
            "INFO:     Started server process [62]\n",
            "INFO:     Waiting for application startup.\n",
            "INFO:     Application startup complete.\n",
            "INFO:     Uvicorn running on http://127.0.0.1:8000 (Press CTRL+C to quit)\n"
          ],
          "name": "stderr"
        },
        {
          "output_type": "stream",
          "text": [
            "INFO:     82.64.30.44:0 - \"GET / HTTP/1.1\" 200 OK\n"
          ],
          "name": "stdout"
        },
        {
          "output_type": "stream",
          "text": [
            "INFO:     Shutting down\n",
            "INFO:     Waiting for application shutdown.\n",
            "INFO:     Application shutdown complete.\n",
            "INFO:     Finished server process [62]\n"
          ],
          "name": "stderr"
        }
      ]
    },
    {
      "cell_type": "markdown",
      "metadata": {
        "id": "jEFbXLZ8QG0q"
      },
      "source": [
        "If you stop the previous cell execution using the square button,  \n",
        "you can see, all jprq subprocesses have been stopped !"
      ]
    },
    {
      "cell_type": "code",
      "metadata": {
        "id": "_hjUubdB9ZLz"
      },
      "source": [
        "!ps -aux | grep [j]prq"
      ],
      "execution_count": null,
      "outputs": []
    }
  ]
}